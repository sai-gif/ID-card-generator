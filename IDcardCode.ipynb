{
 "cells": [
  {
   "cell_type": "code",
   "execution_count": 5,
   "id": "dbaef45d",
   "metadata": {},
   "outputs": [],
   "source": [
    "import os\n",
    "import pandas as pd\n",
    "from PIL import Image, ImageDraw, ImageFont\n",
    "from reportlab.pdfgen import canvas"
   ]
  },
  {
   "cell_type": "code",
   "execution_count": 6,
   "id": "fb6a55a7",
   "metadata": {},
   "outputs": [],
   "source": [
    "# Load data from CSV\n",
    "def load_data(csv_file):\n",
    "    return pd.read_csv(\"C:/Users/saiku/Downloads/IDs.csv\")\n",
    "\n",
    "# Prepare ID card\n",
    "def create_id_card(template_path, photo_path, name, title, output_path):\n",
    "    try:\n",
    "        # Load template\n",
    "        template = Image.open(\"C:/Users/saiku/OneDrive/Desktop/ImagesforID/ute_id_template.png\").convert(\"RGBA\")\n",
    "        photo = Image.open(photo_path).resize((100, 100))  # Resize photo to fit in the template\n",
    "        \n",
    "        # Create drawing context\n",
    "        template.paste(photo, (50, 60))  # Adjust these numbers based on your template\n",
    "        draw = ImageDraw.Draw(template)\n",
    "        font = ImageFont.load_default()\n",
    "        \n",
    "        # Add text\n",
    "        draw.text((160, 70), name, font=font, fill=\"black\")\n",
    "        draw.text((160, 120), title, font=font, fill=\"black\")\n",
    "        \n",
    "        template.save(output_path)\n",
    "        return output_path\n",
    "    except Exception as e:\n",
    "        print(f\"Error creating ID card: {e}\")\n",
    "        return None\n"
   ]
  },
  {
   "cell_type": "code",
   "execution_count": 9,
   "id": "31839084",
   "metadata": {},
   "outputs": [
    {
     "name": "stdout",
     "output_type": "stream",
     "text": [
      "Error creating ID card: [Errno 2] No such file or directory: 'C:\\\\Users\\\\saiku\\\\OneDrive\\\\Desktop\\\\ImagesforID\\\\John_Doe.png'\n",
      "Error creating ID card: [Errno 2] No such file or directory: 'C:\\\\Users\\\\saiku\\\\OneDrive\\\\Desktop\\\\ImagesforID\\\\Jane_Smith.png'\n",
      "Error creating ID card: [Errno 2] No such file or directory: 'C:\\\\Users\\\\saiku\\\\OneDrive\\\\Desktop\\\\ImagesforID\\\\Michael_Johnson.png'\n",
      "Error creating ID card: [Errno 2] No such file or directory: 'C:\\\\Users\\\\saiku\\\\OneDrive\\\\Desktop\\\\ImagesforID\\\\Emily_Brown.png'\n",
      "Error creating ID card: [Errno 2] No such file or directory: 'C:\\\\Users\\\\saiku\\\\OneDrive\\\\Desktop\\\\ImagesforID\\\\David_Lee.png'\n",
      "Error creating ID card: [Errno 2] No such file or directory: 'C:\\\\Users\\\\saiku\\\\OneDrive\\\\Desktop\\\\ImagesforID\\\\Sarah_Taylor.png'\n",
      "Error creating ID card: [Errno 2] No such file or directory: 'C:\\\\Users\\\\saiku\\\\OneDrive\\\\Desktop\\\\ImagesforID\\\\Kevin_Wilson.png'\n",
      "Error creating ID card: [Errno 2] No such file or directory: 'C:\\\\Users\\\\saiku\\\\OneDrive\\\\Desktop\\\\ImagesforID\\\\Jessica_Anderson.png'\n",
      "Error creating ID card: [Errno 2] No such file or directory: 'C:\\\\Users\\\\saiku\\\\OneDrive\\\\Desktop\\\\ImagesforID\\\\Ryan_Martinez.png'\n"
     ]
    }
   ],
   "source": [
    "# Create PDF\n",
    "# Create PDF\n",
    "def create_pdf(csv_file, template_img, pdf_file):\n",
    "    data = load_data(csv_file)\n",
    "    c = canvas.Canvas(pdf_file)\n",
    "    \n",
    "    for index, row in data.iterrows():\n",
    "        img_path = create_id_card(template_img, row['Photo'], row['Name'], row['Title'], f\"temp_{index}.png\")\n",
    "        if img_path:\n",
    "            c.setPageSize((612, 792))  # Standard letter size: 8.5 x 11 inches (612 x 792 points)\n",
    "            c.drawImage(img_path, 0, 0, width=612, height=792)\n",
    "            c.showPage()\n",
    "            os.remove(img_path)  # Clean up temp file\n",
    "    \n",
    "    c.save()\n",
    "\n",
    "\n",
    "# Main function to run the script\n",
    "if __name__ == \"__main__\":\n",
    "    csv_file_path = \"employees.csv\"\n",
    "    template_image_path = \"ute_id_template.png\"\n",
    "    output_pdf_file = \"employee_ids.pdf\"\n",
    "    \n",
    "    create_pdf(csv_file_path, template_image_path, output_pdf_file)\n"
   ]
  },
  {
   "cell_type": "code",
   "execution_count": null,
   "id": "d755afa0",
   "metadata": {},
   "outputs": [],
   "source": []
  }
 ],
 "metadata": {
  "kernelspec": {
   "display_name": "Python 3 (ipykernel)",
   "language": "python",
   "name": "python3"
  },
  "language_info": {
   "codemirror_mode": {
    "name": "ipython",
    "version": 3
   },
   "file_extension": ".py",
   "mimetype": "text/x-python",
   "name": "python",
   "nbconvert_exporter": "python",
   "pygments_lexer": "ipython3",
   "version": "3.11.4"
  }
 },
 "nbformat": 4,
 "nbformat_minor": 5
}
