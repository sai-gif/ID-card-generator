{
 "cells": [
  {
   "cell_type": "code",
   "execution_count": 12,
   "id": "dbaef45d",
   "metadata": {},
   "outputs": [],
   "source": [
    "import os\n",
    "import pandas as pd\n",
    "from PIL import Image, ImageDraw, ImageFont\n",
    "from reportlab.pdfgen import canvas"
   ]
  },
  {
   "cell_type": "code",
   "execution_count": 13,
   "id": "fb6a55a7",
   "metadata": {},
   "outputs": [],
   "source": [
    "def load_data(csv_file):\n",
    "    return pd.read_csv(\"C:/Users/saiku/Downloads/IDs.csv\")\n",
    "\n",
    "\n",
    "def create_id_card(template_path, photo_path, name, title, output_path):\n",
    "    try:\n",
    "      \n",
    "        template = Image.open(\"C:/Users/saiku/OneDrive/Desktop/ImagesforID/ute_id_template.png\").convert(\"RGBA\")\n",
    "        photo = Image.open(photo_path).resize((100, 100)) \n",
    "        \n",
    "       \n",
    "        template.paste(photo, (50, 60))  \n",
    "        draw = ImageDraw.Draw(template)\n",
    "        font = ImageFont.load_default()\n",
    "      \n",
    "        draw.text((160, 70), name, font=font, fill=\"black\")\n",
    "        draw.text((160, 120), title, font=font, fill=\"black\")\n",
    "        \n",
    "        template.save(output_path)\n",
    "        return output_path\n",
    "    except Exception as e:\n",
    "        print(f\"Error creating ID card: {e}\")\n",
    "        return None\n"
   ]
  },
  {
   "cell_type": "code",
   "execution_count": 14,
   "id": "0707a9aa",
   "metadata": {},
   "outputs": [],
   "source": [
    "def create_pdf(csv_file, template_img, pdf_file):\n",
    "    data = load_data(csv_file)\n",
    "    c = canvas.Canvas(pdf_file)\n",
    "    \n",
    "    for index, row in data.iterrows():\n",
    "        img_path = create_id_card(template_img, row['Photo'], row['Name'], row['Title'], f\"temp_{index}.png\")\n",
    "        if img_path:\n",
    "            c.setPageSize((612, 792))  # Standard letter size: 8.5 x 11 inches (612 x 792 points)\n",
    "            c.drawImage(img_path, 0, 0, width=612, height=792)\n",
    "            c.showPage()\n",
    "            os.remove(img_path)  # Clean up temp file\n",
    "    \n",
    "    c.save()\n",
    "\n",
    "\n",
    "if __name__ == \"__main__\":\n",
    "    csv_file_path = \"employees.csv\"\n",
    "    template_image_path = \"ute_id_template.png\"\n",
    "    output_pdf_file = \"employee_ids.pdf\"\n",
    "    \n",
    "    create_pdf(csv_file_path, template_image_path, output_pdf_file)\n"
   ]
  },
  {
   "cell_type": "code",
   "execution_count": null,
   "id": "0ad75ce9",
   "metadata": {},
   "outputs": [],
   "source": []
  }
 ],
 "metadata": {
  "kernelspec": {
   "display_name": "Python 3 (ipykernel)",
   "language": "python",
   "name": "python3"
  },
  "language_info": {
   "codemirror_mode": {
    "name": "ipython",
    "version": 3
   },
   "file_extension": ".py",
   "mimetype": "text/x-python",
   "name": "python",
   "nbconvert_exporter": "python",
   "pygments_lexer": "ipython3",
   "version": "3.11.4"
  }
 },
 "nbformat": 4,
 "nbformat_minor": 5
}
